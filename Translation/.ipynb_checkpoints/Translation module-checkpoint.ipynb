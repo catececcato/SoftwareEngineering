{
 "cells": [
  {
   "cell_type": "markdown",
   "metadata": {
    "id": "BH5IB-ToMokt"
   },
   "source": [
    "It takes awhile to see changes made by other people. The testing showed the page refresses every 30 seconds.\n",
    "\n",
    "We should work in a google doc and if there is some code, we can copy it here. That way it is in real time :)"
   ]
  },
  {
   "cell_type": "markdown",
   "metadata": {
    "id": "iMP0RBmca8wV"
   },
   "source": [
    "Content overview:\n",
    "\n",
    "1. Download and install OpenNMT-py 2.0 and install some libraries\n",
    "2. Let's get some data.\n",
    "3. Tokenize the data (takes some time)\n",
    "4. Now we need to split the data into train test and development sets. We can do this with the train_test_dev.py script\n",
    "5. Now we need to build a vocabulary - a list of words and their numerical representations that will be used by the NNs. \n",
    "6. Now we can start the training process - takes a loooong time! Be patient!\n",
    "7. Now that the training is over we can translate using the model.\n",
    "\n"
   ]
  },
  {
   "cell_type": "markdown",
   "metadata": {
    "id": "HGJ441-deMjn"
   },
   "source": [
    "Mount to Google Drive"
   ]
  },
  {
   "cell_type": "code",
   "execution_count": 1,
   "metadata": {
    "colab": {
     "base_uri": "https://localhost:8080/"
    },
    "executionInfo": {
     "elapsed": 18361,
     "status": "ok",
     "timestamp": 1633529580498,
     "user": {
      "displayName": "Jos Prinsen",
      "photoUrl": "https://lh3.googleusercontent.com/a/default-user=s64",
      "userId": "13051190794792498554"
     },
     "user_tz": -120
    },
    "id": "9AtQMrNIg5_3",
    "outputId": "c2ffb3bd-c2b0-480f-fa45-01232a3c9ffa"
   },
   "outputs": [
    {
     "name": "stdout",
     "output_type": "stream",
     "text": [
      "Mounted at /content/drive\n"
     ]
    }
   ],
   "source": [
    "from google.colab import drive\n",
    "drive.mount('/content/drive')\n",
    "\n"
   ]
  },
  {
   "cell_type": "code",
   "execution_count": 2,
   "metadata": {
    "colab": {
     "base_uri": "https://localhost:8080/"
    },
    "executionInfo": {
     "elapsed": 3564,
     "status": "ok",
     "timestamp": 1633522787831,
     "user": {
      "displayName": "Caterina Ceccato",
      "photoUrl": "https://lh3.googleusercontent.com/a/default-user=s64",
      "userId": "07947211616741788386"
     },
     "user_tz": -120
    },
    "id": "DwZZJWXgT4l6",
    "outputId": "722b9d0e-07e9-44cb-e653-2ff4d4113c47"
   },
   "outputs": [
    {
     "name": "stdout",
     "output_type": "stream",
     "text": [
      "Requirement already satisfied: pip in c:\\python310\\lib\\site-packages (21.2.3)\n",
      "Collecting pip\n",
      "  Using cached pip-21.2.4-py3-none-any.whl (1.6 MB)\n",
      "Installing collected packages: pip\n",
      "Successfully installed pip-21.2.4\n"
     ]
    },
    {
     "name": "stderr",
     "output_type": "stream",
     "text": [
      "WARNING: Ignoring invalid distribution -ip (c:\\python310\\lib\\site-packages)\n",
      "WARNING: Ignoring invalid distribution -ip (c:\\python310\\lib\\site-packages)\n",
      "WARNING: Ignoring invalid distribution -ip (c:\\python310\\lib\\site-packages)\n",
      "  WARNING: The scripts pip.exe, pip3.10.exe and pip3.exe are installed in 'C:\\Users\\Jos Prinsen\\AppData\\Roaming\\Python\\Python310\\Scripts' which is not on PATH.\n",
      "  Consider adding this directory to PATH or, if you prefer to suppress this warning, use --no-warn-script-location.\n",
      "WARNING: Ignoring invalid distribution -ip (c:\\python310\\lib\\site-packages)\n",
      "WARNING: Ignoring invalid distribution -ip (c:\\python310\\lib\\site-packages)\n",
      "WARNING: Ignoring invalid distribution -ip (c:\\python310\\lib\\site-packages)\n",
      "WARNING: You are using pip version 21.2.3; however, version 21.2.4 is available.\n",
      "You should consider upgrading via the 'C:\\Python310\\python.exe -m pip install --upgrade pip' command.\n"
     ]
    }
   ],
   "source": [
    "!pip install --user --upgrade pip"
   ]
  },
  {
   "cell_type": "markdown",
   "metadata": {
    "id": "ebPc2jHqeQTj"
   },
   "source": [
    "Install OpenNMT "
   ]
  },
  {
   "cell_type": "code",
   "execution_count": 3,
   "metadata": {
    "colab": {
     "base_uri": "https://localhost:8080/"
    },
    "executionInfo": {
     "elapsed": 7575,
     "status": "ok",
     "timestamp": 1633529605149,
     "user": {
      "displayName": "Jos Prinsen",
      "photoUrl": "https://lh3.googleusercontent.com/a/default-user=s64",
      "userId": "13051190794792498554"
     },
     "user_tz": -120
    },
    "id": "h7hTIVQ_T5Fw",
    "outputId": "e4919894-db62-43e1-abb2-8b7bfa76e1fb"
   },
   "outputs": [
    {
     "name": "stdout",
     "output_type": "stream",
     "text": [
      "Collecting OpenNMT-py\n",
      "  Using cached OpenNMT_py-2.2.0-py3-none-any.whl (216 kB)\n",
      "Collecting waitress\n",
      "  Using cached waitress-2.0.0-py3-none-any.whl (56 kB)\n",
      "Collecting pyyaml\n",
      "  Downloading PyYAML-5.4.1.tar.gz (175 kB)\n",
      "  Installing build dependencies: started\n",
      "  Installing build dependencies: finished with status 'done'\n",
      "  Getting requirements to build wheel: started\n",
      "  Getting requirements to build wheel: finished with status 'done'\n",
      "    Preparing wheel metadata: started\n",
      "    Preparing wheel metadata: finished with status 'done'\n",
      "Collecting tensorboard>=2.3\n",
      "  Using cached tensorboard-2.6.0-py3-none-any.whl (5.6 MB)\n",
      "Collecting OpenNMT-py\n",
      "  Downloading OpenNMT_py-2.1.2-py3-none-any.whl (212 kB)\n",
      "Collecting tqdm<5,>=4.51\n",
      "  Downloading tqdm-4.62.3-py2.py3-none-any.whl (76 kB)\n",
      "Collecting OpenNMT-py\n",
      "  Downloading OpenNMT_py-2.1.1-py3-none-any.whl (212 kB)\n",
      "  Downloading OpenNMT_py-2.1.0-py3-none-any.whl (209 kB)\n",
      "  Downloading OpenNMT_py-2.0.1-py3-none-any.whl (207 kB)\n",
      "  Downloading OpenNMT_py-2.0.0-py3-none-any.whl (206 kB)\n",
      "  Downloading OpenNMT_py-1.2.0-py3-none-any.whl (195 kB)\n",
      "Requirement already satisfied: six in c:\\python310\\lib\\site-packages (from OpenNMT-py) (1.16.0)\n",
      "Collecting torchtext==0.4.0\n",
      "  Downloading torchtext-0.4.0-py3-none-any.whl (53 kB)\n",
      "Collecting OpenNMT-py\n",
      "  Downloading OpenNMT_py-1.1.1-py3-none-any.whl (189 kB)\n",
      "Collecting tqdm~=4.30.0\n",
      "  Downloading tqdm-4.30.0-py2.py3-none-any.whl (47 kB)\n",
      "Collecting configargparse\n",
      "  Using cached ConfigArgParse-1.5.3-py3-none-any.whl (20 kB)\n",
      "Collecting flask\n",
      "  Downloading Flask-2.0.2-py3-none-any.whl (95 kB)\n",
      "Collecting OpenNMT-py\n",
      "  Downloading OpenNMT_py-1.1.0-py3-none-any.whl (188 kB)\n",
      "  Downloading OpenNMT_py-1.0.2-py3-none-any.whl (183 kB)\n",
      "  Downloading OpenNMT_py-1.0.1-py3-none-any.whl (183 kB)\n",
      "  Downloading OpenNMT_py-1.0.0-py3-none-any.whl (181 kB)\n",
      "\n",
      "The conflict is caused by:\n",
      "    opennmt-py 2.2.0 depends on torch>=1.6.0\n",
      "    opennmt-py 2.1.2 depends on torch==1.6.0\n",
      "    opennmt-py 2.1.1 depends on torch==1.6.0\n",
      "    opennmt-py 2.1.0 depends on torch==1.6.0\n",
      "    opennmt-py 2.0.1 depends on torch==1.6.0\n",
      "    opennmt-py 2.0.0 depends on torch==1.6.0\n",
      "    opennmt-py 1.2.0 depends on torch>=1.6.0\n",
      "    opennmt-py 1.1.1 depends on torch>=1.4.0\n",
      "    opennmt-py 1.1.0 depends on torch>=1.4.0\n",
      "    opennmt-py 1.0.2 depends on torch>=1.4.0\n",
      "    opennmt-py 1.0.1 depends on torch>=1.4.0\n",
      "    opennmt-py 1.0.0 depends on torch>=1.2\n",
      "\n",
      "To fix this you could try to:\n",
      "1. loosen the range of package versions you've specified\n",
      "2. remove package versions to allow pip attempt to solve the dependency conflict\n",
      "\n"
     ]
    },
    {
     "name": "stderr",
     "output_type": "stream",
     "text": [
      "WARNING: Ignoring invalid distribution -ip (c:\\python310\\lib\\site-packages)\n",
      "WARNING: Ignoring invalid distribution -ip (c:\\python310\\lib\\site-packages)\n",
      "ERROR: Cannot install opennmt-py==1.0.0, opennmt-py==1.0.1, opennmt-py==1.0.2, opennmt-py==1.1.0, opennmt-py==1.1.1, opennmt-py==1.2.0, opennmt-py==2.0.0, opennmt-py==2.0.1, opennmt-py==2.1.0, opennmt-py==2.1.1, opennmt-py==2.1.2 and opennmt-py==2.2.0 because these package versions have conflicting dependencies.\n",
      "ERROR: ResolutionImpossible: for help visit https://pip.pypa.io/en/latest/user_guide/#fixing-conflicting-dependencies\n",
      "WARNING: Ignoring invalid distribution -ip (c:\\python310\\lib\\site-packages)\n"
     ]
    }
   ],
   "source": [
    "!pip install OpenNMT-py"
   ]
  },
  {
   "cell_type": "code",
   "execution_count": 3,
   "metadata": {
    "colab": {
     "base_uri": "https://localhost:8080/"
    },
    "executionInfo": {
     "elapsed": 3236,
     "status": "ok",
     "timestamp": 1633529614123,
     "user": {
      "displayName": "Jos Prinsen",
      "photoUrl": "https://lh3.googleusercontent.com/a/default-user=s64",
      "userId": "13051190794792498554"
     },
     "user_tz": -120
    },
    "id": "mC07bHLPT5vB",
    "outputId": "d09917f5-4663-405f-cc06-0811ecc202e0"
   },
   "outputs": [
    {
     "name": "stdout",
     "output_type": "stream",
     "text": [
      "Collecting sacremoses\n",
      "  Downloading sacremoses-0.0.46-py3-none-any.whl (895 kB)\n",
      "\u001b[?25l\r",
      "\u001b[K     |▍                               | 10 kB 23.6 MB/s eta 0:00:01\r",
      "\u001b[K     |▊                               | 20 kB 24.9 MB/s eta 0:00:01\r",
      "\u001b[K     |█                               | 30 kB 28.1 MB/s eta 0:00:01\r",
      "\u001b[K     |█▌                              | 40 kB 30.8 MB/s eta 0:00:01\r",
      "\u001b[K     |█▉                              | 51 kB 33.3 MB/s eta 0:00:01\r",
      "\u001b[K     |██▏                             | 61 kB 34.2 MB/s eta 0:00:01\r",
      "\u001b[K     |██▋                             | 71 kB 29.7 MB/s eta 0:00:01\r",
      "\u001b[K     |███                             | 81 kB 31.2 MB/s eta 0:00:01\r",
      "\u001b[K     |███▎                            | 92 kB 31.5 MB/s eta 0:00:01\r",
      "\u001b[K     |███▋                            | 102 kB 28.6 MB/s eta 0:00:01\r",
      "\u001b[K     |████                            | 112 kB 28.6 MB/s eta 0:00:01\r",
      "\u001b[K     |████▍                           | 122 kB 28.6 MB/s eta 0:00:01\r",
      "\u001b[K     |████▊                           | 133 kB 28.6 MB/s eta 0:00:01\r",
      "\u001b[K     |█████▏                          | 143 kB 28.6 MB/s eta 0:00:01\r",
      "\u001b[K     |█████▌                          | 153 kB 28.6 MB/s eta 0:00:01\r",
      "\u001b[K     |█████▉                          | 163 kB 28.6 MB/s eta 0:00:01\r",
      "\u001b[K     |██████▎                         | 174 kB 28.6 MB/s eta 0:00:01\r",
      "\u001b[K     |██████▋                         | 184 kB 28.6 MB/s eta 0:00:01\r",
      "\u001b[K     |███████                         | 194 kB 28.6 MB/s eta 0:00:01\r",
      "\u001b[K     |███████▎                        | 204 kB 28.6 MB/s eta 0:00:01\r",
      "\u001b[K     |███████▊                        | 215 kB 28.6 MB/s eta 0:00:01\r",
      "\u001b[K     |████████                        | 225 kB 28.6 MB/s eta 0:00:01\r",
      "\u001b[K     |████████▍                       | 235 kB 28.6 MB/s eta 0:00:01\r",
      "\u001b[K     |████████▉                       | 245 kB 28.6 MB/s eta 0:00:01\r",
      "\u001b[K     |█████████▏                      | 256 kB 28.6 MB/s eta 0:00:01\r",
      "\u001b[K     |█████████▌                      | 266 kB 28.6 MB/s eta 0:00:01\r",
      "\u001b[K     |█████████▉                      | 276 kB 28.6 MB/s eta 0:00:01\r",
      "\u001b[K     |██████████▎                     | 286 kB 28.6 MB/s eta 0:00:01\r",
      "\u001b[K     |██████████▋                     | 296 kB 28.6 MB/s eta 0:00:01\r",
      "\u001b[K     |███████████                     | 307 kB 28.6 MB/s eta 0:00:01\r",
      "\u001b[K     |███████████▍                    | 317 kB 28.6 MB/s eta 0:00:01\r",
      "\u001b[K     |███████████▊                    | 327 kB 28.6 MB/s eta 0:00:01\r",
      "\u001b[K     |████████████                    | 337 kB 28.6 MB/s eta 0:00:01\r",
      "\u001b[K     |████████████▌                   | 348 kB 28.6 MB/s eta 0:00:01\r",
      "\u001b[K     |████████████▉                   | 358 kB 28.6 MB/s eta 0:00:01\r",
      "\u001b[K     |█████████████▏                  | 368 kB 28.6 MB/s eta 0:00:01\r",
      "\u001b[K     |█████████████▌                  | 378 kB 28.6 MB/s eta 0:00:01\r",
      "\u001b[K     |██████████████                  | 389 kB 28.6 MB/s eta 0:00:01\r",
      "\u001b[K     |██████████████▎                 | 399 kB 28.6 MB/s eta 0:00:01\r",
      "\u001b[K     |██████████████▋                 | 409 kB 28.6 MB/s eta 0:00:01\r",
      "\u001b[K     |███████████████                 | 419 kB 28.6 MB/s eta 0:00:01\r",
      "\u001b[K     |███████████████▍                | 430 kB 28.6 MB/s eta 0:00:01\r",
      "\u001b[K     |███████████████▊                | 440 kB 28.6 MB/s eta 0:00:01\r",
      "\u001b[K     |████████████████                | 450 kB 28.6 MB/s eta 0:00:01\r",
      "\u001b[K     |████████████████▌               | 460 kB 28.6 MB/s eta 0:00:01\r",
      "\u001b[K     |████████████████▉               | 471 kB 28.6 MB/s eta 0:00:01\r",
      "\u001b[K     |█████████████████▏              | 481 kB 28.6 MB/s eta 0:00:01\r",
      "\u001b[K     |█████████████████▋              | 491 kB 28.6 MB/s eta 0:00:01\r",
      "\u001b[K     |██████████████████              | 501 kB 28.6 MB/s eta 0:00:01\r",
      "\u001b[K     |██████████████████▎             | 512 kB 28.6 MB/s eta 0:00:01\r",
      "\u001b[K     |██████████████████▊             | 522 kB 28.6 MB/s eta 0:00:01\r",
      "\u001b[K     |███████████████████             | 532 kB 28.6 MB/s eta 0:00:01\r",
      "\u001b[K     |███████████████████▍            | 542 kB 28.6 MB/s eta 0:00:01\r",
      "\u001b[K     |███████████████████▊            | 552 kB 28.6 MB/s eta 0:00:01\r",
      "\u001b[K     |████████████████████▏           | 563 kB 28.6 MB/s eta 0:00:01\r",
      "\u001b[K     |████████████████████▌           | 573 kB 28.6 MB/s eta 0:00:01\r",
      "\u001b[K     |████████████████████▉           | 583 kB 28.6 MB/s eta 0:00:01\r",
      "\u001b[K     |█████████████████████▎          | 593 kB 28.6 MB/s eta 0:00:01\r",
      "\u001b[K     |█████████████████████▋          | 604 kB 28.6 MB/s eta 0:00:01\r",
      "\u001b[K     |██████████████████████          | 614 kB 28.6 MB/s eta 0:00:01\r",
      "\u001b[K     |██████████████████████▎         | 624 kB 28.6 MB/s eta 0:00:01\r",
      "\u001b[K     |██████████████████████▊         | 634 kB 28.6 MB/s eta 0:00:01\r",
      "\u001b[K     |███████████████████████         | 645 kB 28.6 MB/s eta 0:00:01\r",
      "\u001b[K     |███████████████████████▍        | 655 kB 28.6 MB/s eta 0:00:01\r",
      "\u001b[K     |███████████████████████▉        | 665 kB 28.6 MB/s eta 0:00:01\r",
      "\u001b[K     |████████████████████████▏       | 675 kB 28.6 MB/s eta 0:00:01\r",
      "\u001b[K     |████████████████████████▌       | 686 kB 28.6 MB/s eta 0:00:01\r",
      "\u001b[K     |█████████████████████████       | 696 kB 28.6 MB/s eta 0:00:01\r",
      "\u001b[K     |█████████████████████████▎      | 706 kB 28.6 MB/s eta 0:00:01\r",
      "\u001b[K     |█████████████████████████▋      | 716 kB 28.6 MB/s eta 0:00:01\r",
      "\u001b[K     |██████████████████████████      | 727 kB 28.6 MB/s eta 0:00:01\r",
      "\u001b[K     |██████████████████████████▍     | 737 kB 28.6 MB/s eta 0:00:01\r",
      "\u001b[K     |██████████████████████████▊     | 747 kB 28.6 MB/s eta 0:00:01\r",
      "\u001b[K     |███████████████████████████     | 757 kB 28.6 MB/s eta 0:00:01\r",
      "\u001b[K     |███████████████████████████▌    | 768 kB 28.6 MB/s eta 0:00:01\r",
      "\u001b[K     |███████████████████████████▉    | 778 kB 28.6 MB/s eta 0:00:01\r",
      "\u001b[K     |████████████████████████████▏   | 788 kB 28.6 MB/s eta 0:00:01\r",
      "\u001b[K     |████████████████████████████▌   | 798 kB 28.6 MB/s eta 0:00:01\r",
      "\u001b[K     |█████████████████████████████   | 808 kB 28.6 MB/s eta 0:00:01\r",
      "\u001b[K     |█████████████████████████████▎  | 819 kB 28.6 MB/s eta 0:00:01\r",
      "\u001b[K     |█████████████████████████████▋  | 829 kB 28.6 MB/s eta 0:00:01\r",
      "\u001b[K     |██████████████████████████████  | 839 kB 28.6 MB/s eta 0:00:01\r",
      "\u001b[K     |██████████████████████████████▍ | 849 kB 28.6 MB/s eta 0:00:01\r",
      "\u001b[K     |██████████████████████████████▊ | 860 kB 28.6 MB/s eta 0:00:01\r",
      "\u001b[K     |███████████████████████████████▏| 870 kB 28.6 MB/s eta 0:00:01\r",
      "\u001b[K     |███████████████████████████████▌| 880 kB 28.6 MB/s eta 0:00:01\r",
      "\u001b[K     |███████████████████████████████▉| 890 kB 28.6 MB/s eta 0:00:01\r",
      "\u001b[K     |████████████████████████████████| 895 kB 28.6 MB/s \n",
      "\u001b[?25hRequirement already satisfied: click in /usr/local/lib/python3.7/dist-packages (from sacremoses) (7.1.2)\n",
      "Requirement already satisfied: six in /usr/local/lib/python3.7/dist-packages (from sacremoses) (1.15.0)\n",
      "Requirement already satisfied: regex in /usr/local/lib/python3.7/dist-packages (from sacremoses) (2019.12.20)\n",
      "Requirement already satisfied: joblib in /usr/local/lib/python3.7/dist-packages (from sacremoses) (1.0.1)\n",
      "Requirement already satisfied: tqdm in /usr/local/lib/python3.7/dist-packages (from sacremoses) (4.62.3)\n",
      "Installing collected packages: sacremoses\n",
      "Successfully installed sacremoses-0.0.46\n"
     ]
    }
   ],
   "source": [
    "!pip install sacremoses"
   ]
  },
  {
   "cell_type": "code",
   "execution_count": 4,
   "metadata": {
    "executionInfo": {
     "elapsed": 186,
     "status": "ok",
     "timestamp": 1633529623366,
     "user": {
      "displayName": "Jos Prinsen",
      "photoUrl": "https://lh3.googleusercontent.com/a/default-user=s64",
      "userId": "13051190794792498554"
     },
     "user_tz": -120
    },
    "id": "Kflp-H8R5Apj"
   },
   "outputs": [],
   "source": [
    "myFolder =\"Software_Engineering\"\n",
    "import os\n",
    "os.environ['PATH'] += \":/content/drive/MyDrive/\" + myFolder + \"/CodeRelated/Translation/scripts_local\""
   ]
  },
  {
   "cell_type": "code",
   "execution_count": 5,
   "metadata": {
    "colab": {
     "base_uri": "https://localhost:8080/"
    },
    "executionInfo": {
     "elapsed": 1597,
     "status": "ok",
     "timestamp": 1633529633692,
     "user": {
      "displayName": "Jos Prinsen",
      "photoUrl": "https://lh3.googleusercontent.com/a/default-user=s64",
      "userId": "13051190794792498554"
     },
     "user_tz": -120
    },
    "id": "G8EGkfg25J-_",
    "outputId": "93fc3d2b-0ab7-407e-b2a4-d0359806e5fe"
   },
   "outputs": [
    {
     "name": "stdout",
     "output_type": "stream",
     "text": [
      "/bin/bash: myFolder: command not found\n",
      "mkdir: cannot create directory ‘/content/drive/MyDrive/Software_Engineering/CodeRelated/Translation’: File exists\n",
      " EN-NL\t\t\t   scripts\t  'Translation module.ipynb'\n",
      " OpenNMT_2_0_clean.ipynb   scripts_local\n"
     ]
    }
   ],
   "source": [
    "!myFolder = \"Software_Engineering\"\n",
    "!mkdir /content/drive/MyDrive/$myFolder/CodeRelated/Translation\n",
    "!ls /content/drive/MyDrive/$myFolder/CodeRelated/Translation"
   ]
  },
  {
   "cell_type": "code",
   "execution_count": 4,
   "metadata": {
    "colab": {
     "base_uri": "https://localhost:8080/"
    },
    "executionInfo": {
     "elapsed": 171,
     "status": "ok",
     "timestamp": 1633529647966,
     "user": {
      "displayName": "Jos Prinsen",
      "photoUrl": "https://lh3.googleusercontent.com/a/default-user=s64",
      "userId": "13051190794792498554"
     },
     "user_tz": -120
    },
    "id": "78iKDWZi5TpX",
    "outputId": "013ef4e4-6ce7-49fb-991f-da57c04fcaf4"
   },
   "outputs": [
    {
     "data": {
      "text/plain": [
       "'H:\\\\.shortcut-targets-by-id\\\\1QgKVFRHkj-7MqKECgz3VASgsyJJuyR8K\\\\Software_Engineering\\\\CodeRelated\\\\Translation'"
      ]
     },
     "execution_count": 4,
     "metadata": {},
     "output_type": "execute_result"
    }
   ],
   "source": [
    "#cd /content/drive/MyDrive/$myFolder/CodeRelated/Translation\n",
    "%pwd"
   ]
  },
  {
   "cell_type": "code",
   "execution_count": null,
   "metadata": {
    "id": "4PynT_nlUqGd"
   },
   "outputs": [],
   "source": [
    "#!mkdir scripts_local \n",
    "#!wget https://ilk.uvt.nl/~shterion/scripts/train_test_dev.py -O /content/drive/MyDrive/Software_Engineering/CodeRelated/Translation/scripts_local/train_test_dev.py\n",
    "#!wget https://ilk.uvt.nl/~shterion/scripts/bpe.sh -O /content/drive/MyDrive/Software_Engineering/CodeRelated/Translation/scripts_local/bpe.sh"
   ]
  },
  {
   "cell_type": "code",
   "execution_count": null,
   "metadata": {
    "id": "xSmgu44o5ge6"
   },
   "outputs": [],
   "source": [
    "#!wget https://ilk.uvt.nl/~shterion/scripts_local/tokenizer.perl -O scripts/tokenizer.perl\n",
    "#!wget https://ilk.uvt.nl/~shterion/scripts_local/detokenize.perl -O scripts/detokenize.perl\n",
    "#!wget https://ilk.uvt.nl/~shterion/scripts_local/nonbreaking_prefixes.zip -O scripts/nonbreaking_prefixes.zip\n",
    "#!unzip scripts_local/nonbreaking_prefixes.zip -d scripts/\n",
    "\n",
    "\n"
   ]
  },
  {
   "cell_type": "code",
   "execution_count": null,
   "metadata": {
    "id": "QC4RqpCd6TKi"
   },
   "outputs": [],
   "source": [
    "!#wget https://ilk.uvt.nl/~shterion/data/EN-NL.zip -O EN-NL.zip\n",
    "#!unzip -K EN-NL.zip\n"
   ]
  },
  {
   "cell_type": "code",
   "execution_count": null,
   "metadata": {
    "colab": {
     "base_uri": "https://localhost:8080/"
    },
    "executionInfo": {
     "elapsed": 341,
     "status": "ok",
     "timestamp": 1633522860622,
     "user": {
      "displayName": "Caterina Ceccato",
      "photoUrl": "https://lh3.googleusercontent.com/a/default-user=s64",
      "userId": "07947211616741788386"
     },
     "user_tz": -120
    },
    "id": "eS4HaqhCaXAH",
    "outputId": "d43daaf5-2bab-42d1-8912-930731b27af2"
   },
   "outputs": [
    {
     "name": "stdout",
     "output_type": "stream",
     "text": [
      "==> EN-NL/data/data.en <==\n",
      "\"All citizens of the euro area will have to learn a new unit of account language and how to recognise the new euro coins and banknotes.\n",
      "\"One member, one vote\" and ad personam participation\n",
      "\"Price stability is defined as a year-on-year increase in the Harmonised Index of Consumer Prices (HICP) for the euro area of below 2%.\n",
      "\"Representativeness\"\n",
      "\"The partnership with the European Blind Union (EBU), which represents seven million blind and partially sighted people in Europe, has been a long and fruitful one.\n",
      "(1) Asset-backed securities, excluding Pfandbriefe-style instruments. (2) As a result of the creation of the issuer group \"Agency - credit institution\", the issuer group \"Credit institution\" (IG4 in the EAD) has been renamed \"Credit institution (excluding Agency - credit institution\").\n",
      "(1) The interest rate on the main refinancing operations of the Eurosystem will be decreased by 5 basis points to 0.00%, starting from the operation to be settled on 16 March 2016.\n",
      "(2) The interest rate on the marginal lending facility will be decreased by 5 basis points to 0.25%, with effect from 16 March 2016.\n",
      "(3) The interest rate on the deposit facility will be decreased by 10 basis points to -0.40%, with effect from 16 March 2016.\n",
      "(4) The monthly purchases under the asset purchase programme will be expanded to €80 billion starting in April.\n",
      "\n",
      "==> EN-NL/data/data.nl <==\n",
      "\"Alle burgers van de eurozone zullen met de nieuwe munteenheid moeten leren omgaan en de nieuwe euromunststukken en -biljetten kunnen herkennen.\n",
      "\"Eén lid, één stem\" en ad personam-deelname\n",
      "\"Prijsstabiliteit wordt gedefinieerd als een jaarlijkse stijging van de Geharmoniseerde Consumptieprijsindex (HICP) voor het eurogebied met minder dan 2%.\n",
      "\"Representativiteit\"\n",
      "\"Met de Europese Unie van Blinden (EUB), die zeven miljoen blinden en slechtzienden in Europa vertegenwoordigt, bestaat sinds lang een vruchtbare samenwerking.\n",
      "(1) Asset-backed securities (effecten met activa als onderpand), met uitzondering van instrumenten van het type Pfandbriefe. (2) Als gevolg van de introductie van de nieuwe emittentengroep \"Bijkantoor – kredietinstelling\", is de emittentengroep \"Kredietinstelling\" (IG4 in de EAD) omgedoopt tot \"Kredietinstelling (uitgezonderd Bijkantoor – kredietinstelling)\".\n",
      "(1) Het rentetarief voor de basisherfinancieringstransacties van het Eurosysteem wordt met 5 basispunten verlaagd naar 0,00%, met ingang van de transactie die zal worden verrekend op 16 maart 2016.\n",
      "(2) Het rentetarief voor de marginale beleningsfaciliteit wordt met 5 basispunten verlaagd naar 0,25%, met ingang van 16 maart 2016.\n",
      "(3) Het rentetarief voor de depositofaciliteit wordt met 10 basispunten verlaagd naar ‑0,40%, met ingang van 16 maart 2016.\n",
      "(4) De maandelijkse aankopen in het kader van het aankoopprogramma voor activa zullen vanaf april worden verhoogd tot €80 miljard.\n",
      "\n",
      "==> EN-NL/data/data.tok.en <==\n",
      "\n",
      "==> EN-NL/data/data.tok.nl <==\n"
     ]
    }
   ],
   "source": [
    "#Something which shows the head: Still have to implement\n",
    "\n",
    "! head -10 EN-NL/data/data.*"
   ]
  },
  {
   "cell_type": "code",
   "execution_count": null,
   "metadata": {
    "colab": {
     "base_uri": "https://localhost:8080/"
    },
    "executionInfo": {
     "elapsed": 533089,
     "status": "ok",
     "timestamp": 1633523592201,
     "user": {
      "displayName": "Caterina Ceccato",
      "photoUrl": "https://lh3.googleusercontent.com/a/default-user=s64",
      "userId": "07947211616741788386"
     },
     "user_tz": -120
    },
    "id": "5UH6JqL9UqX3",
    "outputId": "fe32d34c-c39b-4a57-e8a7-253ac89b91c4"
   },
   "outputs": [
    {
     "name": "stdout",
     "output_type": "stream",
     "text": [
      "total 41\n",
      "drwx------ 5 root  4096 Oct  5 19:39  EN-NL\n",
      "drwx------ 2 root  4096 Oct  5 19:39  scripts\n",
      "drwx------ 2 root  4096 Oct  6 08:15  scripts_local\n",
      "-rw------- 1 root 29319 Oct  6 12:15 'Translation module.ipynb'\n",
      "Tokenizer Version 1.1\n",
      "Language: en\n",
      "Number of threads: 16\n",
      "Tokenizer Version 1.1\n",
      "Language: nl\n",
      "Number of threads: 16\n"
     ]
    }
   ],
   "source": [
    "#Code to tokenize the data (takes some time)\n",
    "\n",
    "!ls -local\n",
    "!perl /content/drive/MyDrive/Software_Engineering/CodeRelated/Translation/scripts_local/tokenizer.perl -no-escape -l en -threads 16 < EN-NL/data/data.en >EN-NL/data/data.tok.en\n",
    "!perl /content/drive/MyDrive/Software_Engineering/CodeRelated/Translation/scripts_local/tokenizer.perl -no-escape -l nl -threads 16 < EN-NL/data/data.en >EN-NL/data/data.tok.nl\n",
    "\n",
    "#Do this for the source and the target. EN is source NL is target.\n"
   ]
  },
  {
   "cell_type": "code",
   "execution_count": null,
   "metadata": {
    "colab": {
     "base_uri": "https://localhost:8080/"
    },
    "executionInfo": {
     "elapsed": 50889,
     "status": "ok",
     "timestamp": 1633523728980,
     "user": {
      "displayName": "Caterina Ceccato",
      "photoUrl": "https://lh3.googleusercontent.com/a/default-user=s64",
      "userId": "07947211616741788386"
     },
     "user_tz": -120
    },
    "id": "uAAFhSJCacE8",
    "outputId": "b92629cd-7d38-4384-9d75-b7f7a8729910"
   },
   "outputs": [
    {
     "name": "stdout",
     "output_type": "stream",
     "text": [
      "Spliting ...\n",
      "done.\n",
      "Cleaning ...\n",
      "done.\n",
      "Saving to: /content/drive/.shortcut-targets-by-id/1QgKVFRHkj-7MqKECgz3VASgsyJJuyR8K/Software_Engineering/CodeRelated/Translation/EN-NL/data\n",
      "All done.\n"
     ]
    }
   ],
   "source": [
    "#Python script will be provided by Lecturer\n",
    "%run /content/drive/MyDrive/Software_Engineering/CodeRelated/Translation/scripts_local/train_test_dev.py --source=EN-NL/data/data.tok.en --target=EN-NL/data/data.tok.nl\n",
    "\n",
    "#Ideally, now that we have all the data split into train test and dev, tokanized and cleaned we would need to perform one more preprocessing to split it into subword units. However, due to the lack of time we will not do that.\n",
    "#You an do this at home using the provided bpe.sh script (https://ilk.uvt.nl/~shterion/script/bpe.sh)"
   ]
  },
  {
   "cell_type": "code",
   "execution_count": null,
   "metadata": {
    "colab": {
     "base_uri": "https://localhost:8080/"
    },
    "executionInfo": {
     "elapsed": 97688,
     "status": "ok",
     "timestamp": 1633525137801,
     "user": {
      "displayName": "Caterina Ceccato",
      "photoUrl": "https://lh3.googleusercontent.com/a/default-user=s64",
      "userId": "07947211616741788386"
     },
     "user_tz": -120
    },
    "id": "e7_QSw3Sd6Gi",
    "outputId": "0d830e6f-37f9-45e5-ed55-78dbccad0153"
   },
   "outputs": [
    {
     "name": "stdout",
     "output_type": "stream",
     "text": [
      "Corpus corpus_0's weight should be given. We default it to 1 for you.\n",
      "[2021-10-06 12:57:22,471 INFO] Counter vocab from -1 samples.\n",
      "[2021-10-06 12:57:22,472 INFO] n_sample=-1: Build vocab on full datasets.\n",
      "[2021-10-06 12:57:22,483 INFO] corpus_0's transforms: TransformPipe()\n",
      "[2021-10-06 12:58:57,833 INFO] Counters src:369492\n",
      "[2021-10-06 12:58:57,833 INFO] Counters tgt:367766\n"
     ]
    }
   ],
   "source": [
    "!onmt_build_vocab -config /content/drive/MyDrive/Software_Engineering/CodeRelated/Translation/EN-NL/config/config_vocab.yaml\n",
    "#Just build location"
   ]
  },
  {
   "cell_type": "code",
   "execution_count": 7,
   "metadata": {
    "colab": {
     "base_uri": "https://localhost:8080/"
    },
    "executionInfo": {
     "elapsed": 1177,
     "status": "ok",
     "timestamp": 1633529683024,
     "user": {
      "displayName": "Jos Prinsen",
      "photoUrl": "https://lh3.googleusercontent.com/a/default-user=s64",
      "userId": "13051190794792498554"
     },
     "user_tz": -120
    },
    "id": "bUMXMgh0eId0",
    "outputId": "76299bd6-5f62-4a2a-ac35-dbf05c6e415c"
   },
   "outputs": [
    {
     "name": "stdout",
     "output_type": "stream",
     "text": [
      "367766 /content/drive/MyDrive/Software_Engineering/CodeRelated/Translation/EN-NL/data/vocab.trg\n",
      "the\t5099103\n",
      "of\t3081226\n",
      ",\t2839793\n",
      ".\t2419237\n",
      "and\t2299656\n",
      "to\t2068933\n",
      "in\t1619648\n",
      "a\t1032898\n",
      "for\t951606\n",
      ")\t802128\n"
     ]
    }
   ],
   "source": [
    "!wc -l /content/drive/MyDrive/Software_Engineering/CodeRelated/Translation/EN-NL/data/vocab.trg\n",
    "!head /content/drive/MyDrive/Software_Engineering/CodeRelated/Translation/EN-NL/data/vocab.trg"
   ]
  },
  {
   "cell_type": "code",
   "execution_count": null,
   "metadata": {
    "colab": {
     "base_uri": "https://localhost:8080/"
    },
    "executionInfo": {
     "elapsed": 1657,
     "status": "ok",
     "timestamp": 1633521451880,
     "user": {
      "displayName": "Esther Senneker",
      "photoUrl": "https://lh3.googleusercontent.com/a-/AOh14GhrBp04Rj1rHgnjs5xh3ACHCzWn0Aa9RuxCkTX9AQ=s64",
      "userId": "04188850920744578773"
     },
     "user_tz": -120
    },
    "id": "ZJ3iogOifBAN",
    "outputId": "382e3e2e-016f-48a6-af2e-de63dae0cb95"
   },
   "outputs": [
    {
     "name": "stdout",
     "output_type": "stream",
     "text": [
      "usage: onmt_train [-h] [-config CONFIG] [-save_config SAVE_CONFIG] -data DATA\n",
      "                  [-skip_empty_level {silent,warning,error}]\n",
      "                  [-transforms {filtertoolong,prefix,switchout,tokendrop,tokenmask,sentencepiece,bpe,onmt_tokenize,bart,filterfeats,inferfeats} [{filtertoolong,prefix,switchout,tokendrop,tokenmask,sentencepiece,bpe,onmt_tokenize,bart,filterfeats,inferfeats} ...]]\n",
      "                  [-save_data SAVE_DATA] [-overwrite] [-n_sample N_SAMPLE]\n",
      "                  [-dump_fields] [-dump_transforms] -src_vocab SRC_VOCAB\n",
      "                  [-tgt_vocab TGT_VOCAB] [-share_vocab]\n",
      "                  [-src_feats_vocab SRC_FEATS_VOCAB]\n",
      "                  [-src_vocab_size SRC_VOCAB_SIZE]\n",
      "                  [-tgt_vocab_size TGT_VOCAB_SIZE]\n",
      "                  [-vocab_size_multiple VOCAB_SIZE_MULTIPLE]\n",
      "                  [-src_words_min_frequency SRC_WORDS_MIN_FREQUENCY]\n",
      "                  [-tgt_words_min_frequency TGT_WORDS_MIN_FREQUENCY]\n",
      "                  [--src_seq_length_trunc SRC_SEQ_LENGTH_TRUNC]\n",
      "                  [--tgt_seq_length_trunc TGT_SEQ_LENGTH_TRUNC]\n",
      "                  [-both_embeddings BOTH_EMBEDDINGS]\n",
      "                  [-src_embeddings SRC_EMBEDDINGS]\n",
      "                  [-tgt_embeddings TGT_EMBEDDINGS]\n",
      "                  [-embeddings_type {GloVe,word2vec}]\n",
      "                  [--src_seq_length SRC_SEQ_LENGTH]\n",
      "                  [--tgt_seq_length TGT_SEQ_LENGTH]\n",
      "                  [-switchout_temperature SWITCHOUT_TEMPERATURE]\n",
      "                  [-tokendrop_temperature TOKENDROP_TEMPERATURE]\n",
      "                  [-tokenmask_temperature TOKENMASK_TEMPERATURE]\n",
      "                  [-src_subword_model SRC_SUBWORD_MODEL]\n",
      "                  [-tgt_subword_model TGT_SUBWORD_MODEL]\n",
      "                  [-src_subword_nbest SRC_SUBWORD_NBEST]\n",
      "                  [-tgt_subword_nbest TGT_SUBWORD_NBEST]\n",
      "                  [-src_subword_alpha SRC_SUBWORD_ALPHA]\n",
      "                  [-tgt_subword_alpha TGT_SUBWORD_ALPHA]\n",
      "                  [-src_subword_vocab SRC_SUBWORD_VOCAB]\n",
      "                  [-tgt_subword_vocab TGT_SUBWORD_VOCAB]\n",
      "                  [-src_vocab_threshold SRC_VOCAB_THRESHOLD]\n",
      "                  [-tgt_vocab_threshold TGT_VOCAB_THRESHOLD]\n",
      "                  [-src_subword_type {none,sentencepiece,bpe}]\n",
      "                  [-tgt_subword_type {none,sentencepiece,bpe}]\n",
      "                  [-src_onmttok_kwargs SRC_ONMTTOK_KWARGS]\n",
      "                  [-tgt_onmttok_kwargs TGT_ONMTTOK_KWARGS]\n",
      "                  [--permute_sent_ratio PERMUTE_SENT_RATIO]\n",
      "                  [--rotate_ratio ROTATE_RATIO] [--insert_ratio INSERT_RATIO]\n",
      "                  [--random_ratio RANDOM_RATIO] [--mask_ratio MASK_RATIO]\n",
      "                  [--mask_length {subword,word,span-poisson}]\n",
      "                  [--poisson_lambda POISSON_LAMBDA]\n",
      "                  [--replace_length {-1,0,1}]\n",
      "                  [--reversible_tokenization {joiner,spacer}]\n",
      "                  [--src_word_vec_size SRC_WORD_VEC_SIZE]\n",
      "                  [--tgt_word_vec_size TGT_WORD_VEC_SIZE]\n",
      "                  [--word_vec_size WORD_VEC_SIZE] [--share_decoder_embeddings]\n",
      "                  [--share_embeddings] [--position_encoding] [-update_vocab]\n",
      "                  [--feat_merge {concat,sum,mlp}]\n",
      "                  [--feat_vec_size FEAT_VEC_SIZE]\n",
      "                  [--feat_vec_exponent FEAT_VEC_EXPONENT]\n",
      "                  [-model_task {seq2seq,lm}] [--model_type {text}]\n",
      "                  [--model_dtype {fp32,fp16}]\n",
      "                  [--encoder_type {rnn,brnn,ggnn,mean,transformer,cnn,transformer_lm}]\n",
      "                  [--decoder_type {rnn,transformer,cnn,transformer_lm}]\n",
      "                  [--layers LAYERS] [--enc_layers ENC_LAYERS]\n",
      "                  [--dec_layers DEC_LAYERS] [--rnn_size RNN_SIZE]\n",
      "                  [--enc_rnn_size ENC_RNN_SIZE] [--dec_rnn_size DEC_RNN_SIZE]\n",
      "                  [--cnn_kernel_width CNN_KERNEL_WIDTH]\n",
      "                  [--pos_ffn_activation_fn {relu,gelu}]\n",
      "                  [--input_feed INPUT_FEED] [--bridge]\n",
      "                  [--rnn_type {LSTM,GRU,SRU}] [--brnn]\n",
      "                  [--context_gate {source,target,both}]\n",
      "                  [--bridge_extra_node BRIDGE_EXTRA_NODE]\n",
      "                  [--bidir_edges BIDIR_EDGES] [--state_dim STATE_DIM]\n",
      "                  [--n_edge_types N_EDGE_TYPES] [--n_node N_NODE]\n",
      "                  [--n_steps N_STEPS] [--src_ggnn_size SRC_GGNN_SIZE]\n",
      "                  [--global_attention {dot,general,mlp,none}]\n",
      "                  [--global_attention_function {softmax,sparsemax}]\n",
      "                  [--self_attn_type SELF_ATTN_TYPE]\n",
      "                  [--max_relative_positions MAX_RELATIVE_POSITIONS]\n",
      "                  [--heads HEADS] [--transformer_ff TRANSFORMER_FF]\n",
      "                  [--aan_useffn] [--lambda_align LAMBDA_ALIGN]\n",
      "                  [--alignment_layer ALIGNMENT_LAYER]\n",
      "                  [--alignment_heads ALIGNMENT_HEADS]\n",
      "                  [--full_context_alignment] [--copy_attn]\n",
      "                  [--copy_attn_type {dot,general,mlp,none}]\n",
      "                  [--generator_function {softmax,sparsemax}]\n",
      "                  [--copy_attn_force] [--reuse_copy_attn]\n",
      "                  [--copy_loss_by_seqlength] [--coverage_attn]\n",
      "                  [--lambda_coverage LAMBDA_COVERAGE]\n",
      "                  [--loss_scale LOSS_SCALE] [--apex_opt_level {O0,O1,O2,O3}]\n",
      "                  [--data_type DATA_TYPE] [--save_model SAVE_MODEL]\n",
      "                  [--save_checkpoint_steps SAVE_CHECKPOINT_STEPS]\n",
      "                  [--keep_checkpoint KEEP_CHECKPOINT]\n",
      "                  [--gpuid [GPUID [GPUID ...]]]\n",
      "                  [--gpu_ranks [GPU_RANKS [GPU_RANKS ...]]]\n",
      "                  [--world_size WORLD_SIZE] [--gpu_backend GPU_BACKEND]\n",
      "                  [--gpu_verbose_level GPU_VERBOSE_LEVEL]\n",
      "                  [--master_ip MASTER_IP] [--master_port MASTER_PORT]\n",
      "                  [--queue_size QUEUE_SIZE] [--seed SEED]\n",
      "                  [--param_init PARAM_INIT] [--param_init_glorot]\n",
      "                  [--train_from TRAIN_FROM]\n",
      "                  [--reset_optim {none,all,states,keep_states}]\n",
      "                  [--pre_word_vecs_enc PRE_WORD_VECS_ENC]\n",
      "                  [--pre_word_vecs_dec PRE_WORD_VECS_DEC]\n",
      "                  [--freeze_word_vecs_enc] [--freeze_word_vecs_dec]\n",
      "                  [--batch_size BATCH_SIZE]\n",
      "                  [--batch_size_multiple BATCH_SIZE_MULTIPLE]\n",
      "                  [--batch_type {sents,tokens}] [--pool_factor POOL_FACTOR]\n",
      "                  [--normalization {sents,tokens}]\n",
      "                  [--accum_count ACCUM_COUNT [ACCUM_COUNT ...]]\n",
      "                  [--accum_steps ACCUM_STEPS [ACCUM_STEPS ...]]\n",
      "                  [--valid_steps VALID_STEPS]\n",
      "                  [--valid_batch_size VALID_BATCH_SIZE]\n",
      "                  [--max_generator_batches MAX_GENERATOR_BATCHES]\n",
      "                  [--train_steps TRAIN_STEPS] [--single_pass]\n",
      "                  [--epochs EPOCHS] [--early_stopping EARLY_STOPPING]\n",
      "                  [--early_stopping_criteria [EARLY_STOPPING_CRITERIA [EARLY_STOPPING_CRITERIA ...]]]\n",
      "                  [--optim {sgd,adagrad,adadelta,adam,sparseadam,adafactor,fusedadam}]\n",
      "                  [--adagrad_accumulator_init ADAGRAD_ACCUMULATOR_INIT]\n",
      "                  [--max_grad_norm MAX_GRAD_NORM]\n",
      "                  [--dropout DROPOUT [DROPOUT ...]]\n",
      "                  [--attention_dropout ATTENTION_DROPOUT [ATTENTION_DROPOUT ...]]\n",
      "                  [--dropout_steps DROPOUT_STEPS [DROPOUT_STEPS ...]]\n",
      "                  [--truncated_decoder TRUNCATED_DECODER]\n",
      "                  [--adam_beta1 ADAM_BETA1] [--adam_beta2 ADAM_BETA2]\n",
      "                  [--label_smoothing LABEL_SMOOTHING]\n",
      "                  [--average_decay AVERAGE_DECAY]\n",
      "                  [--average_every AVERAGE_EVERY]\n",
      "                  [--learning_rate LEARNING_RATE]\n",
      "                  [--learning_rate_decay LEARNING_RATE_DECAY]\n",
      "                  [--start_decay_steps START_DECAY_STEPS]\n",
      "                  [--decay_steps DECAY_STEPS]\n",
      "                  [--decay_method {noam,noamwd,rsqrt,none}]\n",
      "                  [--warmup_steps WARMUP_STEPS] [--log_file LOG_FILE]\n",
      "                  [--log_file_level {CRITICAL,ERROR,WARNING,INFO,DEBUG,NOTSET,50,40,30,20,10,0}]\n",
      "                  [--verbose] [--report_every REPORT_EVERY]\n",
      "                  [--exp_host EXP_HOST] [--exp EXP] [--tensorboard]\n",
      "                  [--tensorboard_log_dir TENSORBOARD_LOG_DIR]\n",
      "                  [-bucket_size BUCKET_SIZE]\n",
      "onmt_train: error: Unable to open config file: /content/drive/MyDrive//EN-NL/config/config_train_rnn.yaml. Error: No such file or directory\n"
     ]
    }
   ],
   "source": [
    "#Will take a long time\n",
    "!onmt_train -config /content/drive/MyDrive/$MYCLASSFOLDER/EN-NL/config/config_train_rnn.yaml\n",
    "\n",
    "\n",
    "\n",
    "\n",
    "\n",
    "#opennmt.net OpenNMT documentation. "
   ]
  },
  {
   "cell_type": "code",
   "execution_count": null,
   "metadata": {
    "colab": {
     "base_uri": "https://localhost:8080/"
    },
    "executionInfo": {
     "elapsed": 223,
     "status": "ok",
     "timestamp": 1633521456094,
     "user": {
      "displayName": "Esther Senneker",
      "photoUrl": "https://lh3.googleusercontent.com/a-/AOh14GhrBp04Rj1rHgnjs5xh3ACHCzWn0Aa9RuxCkTX9AQ=s64",
      "userId": "04188850920744578773"
     },
     "user_tz": -120
    },
    "id": "LLLyca46cM33",
    "outputId": "fc1f87ec-4c68-453c-a80a-518e335655ea"
   },
   "outputs": [
    {
     "name": "stdout",
     "output_type": "stream",
     "text": [
      "/bin/bash: onmt_trans: command not found\n"
     ]
    }
   ],
   "source": [
    "!onmt_trans -config /content/drive/MyDrive/$MYCLASSFOLDER/EN-NL/config/config_trans.yaml"
   ]
  },
  {
   "cell_type": "markdown",
   "metadata": {
    "id": "bR36OL6Ka7xX"
   },
   "source": []
  }
 ],
 "metadata": {
  "colab": {
   "collapsed_sections": [],
   "name": "Translation module.ipynb",
   "provenance": []
  },
  "kernelspec": {
   "display_name": "Python 3 (ipykernel)",
   "language": "python",
   "name": "python3"
  },
  "language_info": {
   "codemirror_mode": {
    "name": "ipython",
    "version": 3
   },
   "file_extension": ".py",
   "mimetype": "text/x-python",
   "name": "python",
   "nbconvert_exporter": "python",
   "pygments_lexer": "ipython3",
   "version": "3.10.0"
  }
 },
 "nbformat": 4,
 "nbformat_minor": 1
}
